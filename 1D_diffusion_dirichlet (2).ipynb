{
 "cells": [
  {
   "cell_type": "code",
   "execution_count": 1,
   "id": "63729c57",
   "metadata": {},
   "outputs": [],
   "source": [
    "import numpy as np\n",
    "import matplotlib.pyplot as plt"
   ]
  },
  {
   "cell_type": "code",
   "execution_count": 4,
   "id": "5920c3ca",
   "metadata": {},
   "outputs": [
    {
     "data": {
      "image/png": "[encoded data removed]",
      "text/plain": [
       "<Figure size 432x288 with 1 Axes>"
      ]
     },
     "metadata": {
      "needs_background": "light"
     },
     "output_type": "display_data"
    }
   ],
   "source": [
    "##Number of lattice nodes\n",
    "Nx=50\n",
    "##Macroscopic property\n",
    "T=np.zeros((Nx))\n",
    "##Temperature at left boundary\n",
    "Tl=1\n",
    "##Temperature at right boundary\n",
    "Tr=0\n",
    "T[0]=Tl\n",
    "T[Nx-1]=Tr\n",
    "##weights of digital particles\n",
    "w1=1/2\n",
    "w2=1/2\n",
    "omega=1.5\n",
    "##particle velocity distribution function\n",
    "f1=np.zeros((Nx))\n",
    "f2=np.zeros((Nx))\n",
    "##post collision vdf\n",
    "f1c=np.zeros((Nx))\n",
    "f2c=np.zeros((Nx))\n",
    "##Compute equilibrium vdf\n",
    "f1eq=w1*T\n",
    "f2eq=w2*T\n",
    "##Initiliazation \n",
    "f1=f1eq\n",
    "f2=f2eq\n",
    "##collision at lattice nodes\n",
    "for i in np.arange(1,Nx-1):\n",
    "    f1c[i]=f1[i]+omega*(f1eq[i]-f1[i])\n",
    "    f2c[i]=f2[i]+omega*(f2eq[i]-f2[i])\n",
    "##Boundary lattice nodes\n",
    "f1c[0]=f1[0]\n",
    "f2c[0]=f2[0]\n",
    "f1c[Nx-1]=f1[Nx-1]\n",
    "f2c[Nx-1]=f2[Nx-1]\n",
    "##Streaming of digital particles\n",
    "for i in np.arange(0,Nx-1):\n",
    "    f1[i+1]=f1c[i]\n",
    "\n",
    "for i in np.arange(0,Nx-1):\n",
    "    f2[i]=f2c[i+1]\n",
    "\n",
    "##Boundary conditions\n",
    "##left boundary \n",
    "f1[0]=Tl-f2[0]\n",
    "##Right boundary\n",
    "f2[Nx-1]=Tr-f2[Nx-1]\n",
    "##Macroscopic property\n",
    "for i in np.arange(1,Nx-1):\n",
    "    T[i]=f1[i]+f2[i]\n",
    "   \n",
    "iter=1000\n",
    "while(iter>=1):\n",
    "    ##Compute equilibrium vdf\n",
    "    f1eq=w1*T\n",
    "    f2eq=w2*T\n",
    "    ##collision at lattice nodes\n",
    "    for i in np.arange(1,Nx-1):\n",
    "        f1c[i]=f1[i]+omega*(f1eq[i]-f1[i])\n",
    "        f2c[i]=f2[i]+omega*(f2eq[i]-f2[i])\n",
    "    ##Boundary lattice nodes\n",
    "    f1c[0]=f1[0]\n",
    "    f2c[0]=f2[0]\n",
    "    f1c[Nx-1]=f1[Nx-1]\n",
    "    f2c[Nx-1]=f2[Nx-1]\n",
    "    ##Streaming of digital particles\n",
    "    for i in np.arange(0,Nx-1):\n",
    "        f1[i+1]=f1c[i]\n",
    "\n",
    "    for i in np.arange(0,Nx-1):\n",
    "        f2[i]=f2c[i+1]\n",
    "\n",
    "\n",
    "    ##Boundary conditions\n",
    "    ##left boundary \n",
    "    f1[0]=Tl-f2[0]\n",
    "    ##Right boundary\n",
    "    f2[Nx-1]=Tr-f2[Nx-1]\n",
    "    ##Macroscopic property\n",
    "    for i in np.arange(1,Nx-1):\n",
    "        T[i]=f1[i]+f2[i]\n",
    "        \n",
    "    iter=iter-1   \n",
    "##Plotting \n",
    "x=np.linspace(0,1,Nx)\n",
    "plt.plot(T,x,color='red',label='D1Q2')\n",
    "plt.xlabel('Distance along bar')\n",
    "plt.ylabel('Temperature')\n",
    "plt.title('Temperature prediction on long thin bar')\n",
    "plt.legend()\n",
    "plt.show()"
   ]
  },
  {
   "cell_type": "code",
   "execution_count": 16,
   "id": "9e76f633",
   "metadata": {},
   "outputs": [
    {
     "data": {
      "image/png": "[encoded data removed]",
      "text/plain": [
       "<Figure size 432x288 with 1 Axes>"
      ]
     },
     "metadata": {
      "needs_background": "light"
     },
     "output_type": "display_data"
    }
   ],
   "source": [
    "##Number of lattice nodes\n",
    "Nx=100\n",
    "##thermal conductivity \n",
    "k=35\n",
    "##Macroscopic property\n",
    "T=np.zeros((Nx))\n",
    "##Temperature at left boundary\n",
    "Tl=100\n",
    "##Adiabatic at right boundary\n",
    "q_b=0\n",
    "##Assigning bc\n",
    "T[0]=Tl\n",
    "T[Nx-1]=T[Nx-2]\n",
    "##weights of digital particles\n",
    "w1=1/2\n",
    "w2=1/2\n",
    "omega=1.2\n",
    "##particle velocity distribution function\n",
    "f1=np.zeros((Nx))\n",
    "f2=np.zeros((Nx))\n",
    "##post collision vdf\n",
    "f1c=np.zeros((Nx))\n",
    "f2c=np.zeros((Nx))\n",
    "##Compute equilibrium vdf\n",
    "f1eq=w1*T\n",
    "f2eq=w2*T\n",
    "##Initiliazation \n",
    "f1=f1eq\n",
    "f2=f2eq\n",
    "##collision at lattice nodes\n",
    "for i in np.arange(1,Nx-1):\n",
    "    f1c[i]=f1[i]+omega*(f1eq[i]-f1[i])\n",
    "    f2c[i]=f2[i]+omega*(f2eq[i]-f2[i])\n",
    "##Boundary lattice nodes\n",
    "f1c[0]=f1[0]\n",
    "f2c[0]=f2[0]\n",
    "f1c[Nx-1]=f1[Nx-1]\n",
    "f2c[Nx-1]=f2[Nx-1]\n",
    "##Streaming of digital particles\n",
    "for i in np.arange(0,Nx-1):\n",
    "    f1[i+1]=f1c[i]\n",
    "\n",
    "for i in np.arange(0,Nx-1):\n",
    "    f2[i]=f2c[i+1]\n",
    "\n",
    "##Boundary conditions\n",
    "##left boundary which is dirichlet\n",
    "f1[0]=Tl-f2[0]\n",
    "##Right boundary which is adiabatic\n",
    "f2[Nx-1]=(f1[Nx-2]+f2[Nx-2])-(q_b/k)-f1[Nx-1]\n",
    "##Macroscopic property\n",
    "for i in np.arange(1,Nx-1):\n",
    "    T[i]=f1[i]+f2[i]\n",
    "   \n",
    "iter=1000\n",
    "while(iter>=1):\n",
    "    ##Compute equilibrium vdf\n",
    "    f1eq=w1*T\n",
    "    f2eq=w2*T\n",
    "    ##collision at lattice nodes\n",
    "    for i in np.arange(1,Nx-1):\n",
    "        f1c[i]=f1[i]+omega*(f1eq[i]-f1[i])\n",
    "        f2c[i]=f2[i]+omega*(f2eq[i]-f2[i])\n",
    "    ##Boundary lattice nodes\n",
    "    f1c[0]=f1[0]\n",
    "    f2c[0]=f2[0]\n",
    "    f1c[Nx-1]=f1[Nx-1]\n",
    "    f2c[Nx-1]=f2[Nx-1]\n",
    "    ##Streaming of digital particles\n",
    "    for i in np.arange(0,Nx-1):\n",
    "        f1[i+1]=f1c[i]\n",
    "\n",
    "    for i in np.arange(0,Nx-1):\n",
    "        f2[i]=f2c[i+1]\n",
    "\n",
    "\n",
    "    ##Boundary conditions\n",
    "    ##left boundary \n",
    "    f1[0]=Tl-f2[0]\n",
    "    ##Right boundary which is adiabatic\n",
    "    f2[Nx-1]=(f1[Nx-2]+f2[Nx-2])-(q_b/k)-f1[Nx-1]\n",
    "    ##Macroscopic property\n",
    "    for i in np.arange(1,Nx-1):\n",
    "        T[i]=f1[i]+f2[i]\n",
    "        \n",
    "    iter=iter-1 \n",
    "    \n",
    "    \n",
    "##Plotting \n",
    "x=np.linspace(0,1,Nx)\n",
    "plt.plot(T,x,color='red',label='D1Q2')\n",
    "plt.xlabel('Distance along bar')\n",
    "plt.ylabel('Temperature')\n",
    "plt.title('Temperature prediction on long thin bar')\n",
    "plt.legend()\n",
    "plt.show()\n",
    "    "
   ]
  },
  {
   "cell_type": "code",
   "execution_count": 5,
   "id": "8c735fbe",
   "metadata": {},
   "outputs": [
    {
     "data": {
      "text/plain": [
       "100.0"
      ]
     },
     "execution_count": 5,
     "metadata": {},
     "output_type": "execute_result"
    }
   ],
   "source": [
    "T[0]"
   ]
  },
  {
   "cell_type": "code",
   "execution_count": 12,
   "id": "b5a3b5c9",
   "metadata": {},
   "outputs": [
    {
     "data": {
      "text/plain": [
       "[<matplotlib.lines.Line2D at 0x1c622118400>]"
      ]
     },
     "execution_count": 12,
     "metadata": {},
     "output_type": "execute_result"
    },
    {
     "data": {
      "image/png": "[encoded data removed]",
      "text/plain": [
       "<Figure size 432x288 with 1 Axes>"
      ]
     },
     "metadata": {
      "needs_background": "light"
     },
     "output_type": "display_data"
    }
   ],
   "source": [
    "plt.plot(T)"
   ]
  },
  {
   "cell_type": "code",
   "execution_count": null,
   "id": "bb0812cd",
   "metadata": {},
   "outputs": [],
   "source": []
  }
 ],
 "metadata": {
  "kernelspec": {
   "display_name": "Python 3",
   "language": "python",
   "name": "python3"
  },
  "language_info": {
   "codemirror_mode": {
    "name": "ipython",
    "version": 3
   },
   "file_extension": ".py",
   "mimetype": "text/x-python",
   "name": "python",
   "nbconvert_exporter": "python",
   "pygments_lexer": "ipython3",
   "version": "3.8.8"
  }
 },
 "nbformat": 4,
 "nbformat_minor": 5
}
